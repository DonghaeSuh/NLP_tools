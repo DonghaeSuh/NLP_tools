{
 "cells": [
  {
   "cell_type": "code",
   "execution_count": 2,
   "id": "03cf4ab9-1b65-43b7-9119-2090f6578e16",
   "metadata": {},
   "outputs": [
    {
     "name": "stdout",
     "output_type": "stream",
     "text": [
      "형태소 단위로 문장 분리\n",
      "----------------------\n",
      "['자연어 처리 는 정말 정말 즐거워', '즐거운 자연어 처리 다 같이 해보자']\n"
     ]
    }
   ],
   "source": [
    "from konlpy.tag import Okt\n",
    "import re\n",
    "\n",
    "Okt = Okt()\n",
    "\n",
    "sentences = ['자연어 처리는 정말 정말 즐거워.', '즐거운 자연어 처리 다같이 해보자.']\n",
    "tokens = []\n",
    "\n",
    "for sentence in sentences:\n",
    "    sentence = re.sub('[^가-힣a-z]', ' ', sentence) #간단한 전처리\n",
    "    token = (Okt.morphs(sentence)) #형태소 분석기를 이용햔 토큰 나누기\n",
    "    tokens.append(' '.join(token))\n",
    "\n",
    "print(\"형태소 단위로 문장 분리\")\n",
    "print(\"----------------------\")\n",
    "print(tokens)"
   ]
  },
  {
   "cell_type": "markdown",
   "id": "6904f747-87d1-4e63-9a1c-bb6a6f9a7e3e",
   "metadata": {
    "tags": []
   },
   "source": [
    "# Count vectorizer"
   ]
  },
  {
   "cell_type": "code",
   "execution_count": 6,
   "id": "cf8f64d9-4eb9-43f4-87d5-5f599d9d1444",
   "metadata": {},
   "outputs": [
    {
     "name": "stdout",
     "output_type": "stream",
     "text": [
      "['같이', '자연어', '정말', '즐거운', '즐거워', '처리', '해보자']\n",
      "[[0 1 2 0 1 1 0]\n",
      " [1 1 0 1 0 1 1]]\n"
     ]
    }
   ],
   "source": [
    "from sklearn.feature_extraction.text import CountVectorizer\n",
    "vectorizer = CountVectorizer()\n",
    "vectors = vectorizer.fit_transform(tokens) #여러 개의 문장을 넣어줘야 작동!!\n",
    "\n",
    "print(vectorizer.get_feature_names())\n",
    "print(vectors.toarray())"
   ]
  },
  {
   "cell_type": "markdown",
   "id": "9509eaa0-6ca4-44f1-ae41-668ef69c267e",
   "metadata": {},
   "source": [
    "벡터화 결과 각 문장은 vocabulary의 인덱스를 기준으로 카운트가 정수로 표시."
   ]
  },
  {
   "cell_type": "markdown",
   "id": "989cc868-02dc-4e19-b866-7fb0223fb56b",
   "metadata": {},
   "source": [
    "즐거운과 즐거워는 같은 의미를 갖는 토큰이지만 okt는 이를 구분해주지 못해서 다른 토큰으로 분리가 되었음.\n",
    "이는 모델에서 같은 의미의 토큰을 다르게 학습할 수 있음을 의미"
   ]
  },
  {
   "cell_type": "code",
   "execution_count": null,
   "id": "1f8f185f-c12d-45f0-89c9-1d7a8f38ea83",
   "metadata": {},
   "outputs": [],
   "source": []
  }
 ],
 "metadata": {
  "kernelspec": {
   "display_name": "Python 3 (ipykernel)",
   "language": "python",
   "name": "python3"
  },
  "language_info": {
   "codemirror_mode": {
    "name": "ipython",
    "version": 3
   },
   "file_extension": ".py",
   "mimetype": "text/x-python",
   "name": "python",
   "nbconvert_exporter": "python",
   "pygments_lexer": "ipython3",
   "version": "3.8.12"
  }
 },
 "nbformat": 4,
 "nbformat_minor": 5
}
