{
 "cells": [
  {
   "cell_type": "code",
   "execution_count": 12,
   "id": "0cc9ced8-34df-48a6-b5d5-7ddab4d8dff6",
   "metadata": {},
   "outputs": [
    {
     "name": "stdout",
     "output_type": "stream",
     "text": [
      "형태소 단위로 문장 분리\n",
      "----------------------\n",
      "['자연어 처리 는 정말 정말 즐거워', '즐거운 자연어 처리 다 같이 해보자']\n"
     ]
    }
   ],
   "source": [
    "from konlpy.tag import Okt\n",
    "import re\n",
    "\n",
    "Okt = Okt()\n",
    "\n",
    "sentences = ['자연어 처리는 정말 정말 즐거워.', '즐거운 자연어 처리 다같이 해보자.']\n",
    "tokens = []\n",
    "\n",
    "for sentence in sentences:\n",
    "    sentence = re.sub('[^가-힣a-z]', ' ', sentence) #간단한 전처리    특수문자를 빈공간으로 바꿈\n",
    "    token = (Okt.morphs(sentence)) #형태소 분석기를 이용햔 토큰 나누기\n",
    "    tokens.append(' '.join(token)) # 공백을 기준으로 붙인다.\n",
    "\n",
    "print(\"형태소 단위로 문장 분리\")\n",
    "print(\"----------------------\")\n",
    "print(tokens)"
   ]
  },
  {
   "cell_type": "code",
   "execution_count": 20,
   "id": "31104dca-5b2d-4957-a070-8abcfc314531",
   "metadata": {},
   "outputs": [
    {
     "name": "stdout",
     "output_type": "stream",
     "text": [
      "각 토큰에게 고유의 정수 부여\n",
      "----------------------\n",
      "{'자연어': 1, '처리': 2, '정말': 3, '는': 4, '즐거워': 5, '즐거운': 6, '다': 7, '같이': 8, '해보자': 9}\n",
      " \n",
      "부여된 정수로 표시된 문장1\n",
      "----------------------\n",
      "[1, 2, 4, 3, 3, 5]\n",
      " \n",
      "부여된 정수로 표시된 문장2\n",
      "----------------------\n",
      "[6, 1, 2, 7, 8, 9]\n",
      " \n",
      "문장1의 one-hot-encoding\n",
      "----------------------\n",
      "[[0. 1. 0. 0. 0. 0.]\n",
      " [0. 0. 1. 0. 0. 0.]\n",
      " [0. 0. 0. 0. 1. 0.]\n",
      " [0. 0. 0. 1. 0. 0.]\n",
      " [0. 0. 0. 1. 0. 0.]\n",
      " [0. 0. 0. 0. 0. 1.]]\n",
      " \n",
      "문장2의 one-hot-encoding\n",
      "----------------------\n",
      "[[0. 0. 0. 0. 0. 0. 1. 0. 0. 0.]\n",
      " [0. 1. 0. 0. 0. 0. 0. 0. 0. 0.]\n",
      " [0. 0. 1. 0. 0. 0. 0. 0. 0. 0.]\n",
      " [0. 0. 0. 0. 0. 0. 0. 1. 0. 0.]\n",
      " [0. 0. 0. 0. 0. 0. 0. 0. 1. 0.]\n",
      " [0. 0. 0. 0. 0. 0. 0. 0. 0. 1.]]\n"
     ]
    }
   ],
   "source": [
    "from tensorflow.keras.preprocessing.text import Tokenizer\n",
    "from tensorflow.keras.utils import to_categorical\n",
    "\n",
    "t = Tokenizer()\n",
    "t.fit_on_texts(tokens)\n",
    "print(\"각 토큰에게 고유의 정수 부여\")\n",
    "print(\"----------------------\")\n",
    "print(t.word_index) \n",
    "print(\" \")\n",
    "\n",
    "s1=t.texts_to_sequences(tokens)[0] \n",
    "print(\"부여된 정수로 표시된 문장1\")\n",
    "print(\"----------------------\")\n",
    "print(s1)\n",
    "print(\" \")\n",
    "\n",
    "s2=t.texts_to_sequences(tokens)[1]\n",
    "print(\"부여된 정수로 표시된 문장2\")\n",
    "print(\"----------------------\")\n",
    "print(s2)\n",
    "print(\" \")\n",
    "\n",
    "s1_one_hot = to_categorical(s1)\n",
    "print(\"문장1의 one-hot-encoding\")\n",
    "print(\"----------------------\")\n",
    "print(s1_one_hot)\n",
    "print(\" \")\n",
    "\n",
    "s2_one_hot = to_categorical(s2)\n",
    "print(\"문장2의 one-hot-encoding\")\n",
    "print(\"----------------------\")\n",
    "print(s2_one_hot)"
   ]
  },
  {
   "cell_type": "markdown",
   "id": "e5b502d6-2769-43a1-8c7a-0882d78ddfad",
   "metadata": {},
   "source": [
    "하지만 이 방식은 vocabulary 크기가 커짐에 따라 많은 공간을 차지하게 되고 벡터가 굉장히 sparse해지기 때문에 모델에게 좋은 특성을 알려주지 못하는 경우가 대부분.\n"
   ]
  }
 ],
 "metadata": {
  "kernelspec": {
   "display_name": "Python 3 (ipykernel)",
   "language": "python",
   "name": "python3"
  },
  "language_info": {
   "codemirror_mode": {
    "name": "ipython",
    "version": 3
   },
   "file_extension": ".py",
   "mimetype": "text/x-python",
   "name": "python",
   "nbconvert_exporter": "python",
   "pygments_lexer": "ipython3",
   "version": "3.8.12"
  }
 },
 "nbformat": 4,
 "nbformat_minor": 5
}
