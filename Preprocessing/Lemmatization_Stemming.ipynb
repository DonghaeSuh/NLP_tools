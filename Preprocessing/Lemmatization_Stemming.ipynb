{
 "cells": [
  {
   "cell_type": "markdown",
   "id": "d34b3aeb-7cc8-4e5e-a89c-1af7bb8937ff",
   "metadata": {},
   "source": [
    "# 표제어 추출"
   ]
  },
  {
   "cell_type": "code",
   "execution_count": 4,
   "id": "b2ff5618-0342-43e4-b731-710dfaac7c35",
   "metadata": {},
   "outputs": [
    {
     "name": "stderr",
     "output_type": "stream",
     "text": [
      "[nltk_data] Downloading package wordnet to\n",
      "[nltk_data]     C:\\Users\\gypsi\\AppData\\Roaming\\nltk_data...\n",
      "[nltk_data]   Package wordnet is already up-to-date!\n",
      "[nltk_data] Downloading package omw-1.4 to\n",
      "[nltk_data]     C:\\Users\\gypsi\\AppData\\Roaming\\nltk_data...\n",
      "[nltk_data]   Unzipping corpora\\omw-1.4.zip.\n"
     ]
    },
    {
     "data": {
      "text/plain": [
       "True"
      ]
     },
     "execution_count": 4,
     "metadata": {},
     "output_type": "execute_result"
    }
   ],
   "source": [
    "import nltk\n",
    "nltk.download('wordnet')\n",
    "nltk.download('omw-1.4')"
   ]
  },
  {
   "cell_type": "code",
   "execution_count": 5,
   "id": "e8be00b8-6bc4-4a6a-9600-edd361fda2e1",
   "metadata": {
    "tags": []
   },
   "outputs": [
    {
     "name": "stdout",
     "output_type": "stream",
     "text": [
      "표제어 추출 전 : ['policy', 'doing', 'organization', 'have', 'going', 'love', 'lives', 'fly', 'dies', 'watched', 'has', 'starting']\n",
      "표제어 추출 후 : ['policy', 'doing', 'organization', 'have', 'going', 'love', 'life', 'fly', 'dy', 'watched', 'ha', 'starting']\n"
     ]
    }
   ],
   "source": [
    "from nltk.stem import WordNetLemmatizer\n",
    "\n",
    "lemmatizer = WordNetLemmatizer()\n",
    "\n",
    "words = ['policy', 'doing', 'organization', 'have', 'going', 'love', 'lives', 'fly', 'dies', 'watched', 'has', 'starting']\n",
    "\n",
    "print('표제어 추출 전 :',words)\n",
    "print('표제어 추출 후 :',[lemmatizer.lemmatize(word) for word in words])"
   ]
  },
  {
   "cell_type": "markdown",
   "id": "fc5da33d-8f77-4692-a66b-aea60ee07309",
   "metadata": {},
   "source": [
    "그럼에도 위의 결과에서는 dy나 ha와 같이 의미를 알 수 없는 적절하지 못한 단어를 출력하고 있다. 이는 표제어 추출기(lemmatizer)가 본래 단어의 품사 정보를 알아야만 정확한 결과를 얻을 수 있기 때문.==>\n",
    "WordNetLemmatizer는 입력으로 단어가 동사 품사라는 사실을 알려줄 수 있다. "
   ]
  },
  {
   "cell_type": "code",
   "execution_count": 6,
   "id": "c2d9371a-37ee-4918-bca9-45dadb89fea2",
   "metadata": {},
   "outputs": [
    {
     "data": {
      "text/plain": [
       "'die'"
      ]
     },
     "execution_count": 6,
     "metadata": {},
     "output_type": "execute_result"
    }
   ],
   "source": [
    "lemmatizer.lemmatize('dies', 'v')"
   ]
  },
  {
   "cell_type": "code",
   "execution_count": 7,
   "id": "bac3ff0f-d660-4a10-bc73-a84feacae492",
   "metadata": {},
   "outputs": [
    {
     "data": {
      "text/plain": [
       "'watch'"
      ]
     },
     "execution_count": 7,
     "metadata": {},
     "output_type": "execute_result"
    }
   ],
   "source": [
    "lemmatizer.lemmatize('watched', 'v')"
   ]
  },
  {
   "cell_type": "code",
   "execution_count": 8,
   "id": "4aaf9ff6-4409-4597-b34b-3452bee7b0ed",
   "metadata": {},
   "outputs": [
    {
     "data": {
      "text/plain": [
       "'have'"
      ]
     },
     "execution_count": 8,
     "metadata": {},
     "output_type": "execute_result"
    }
   ],
   "source": [
    "lemmatizer.lemmatize('has', 'v')"
   ]
  },
  {
   "cell_type": "markdown",
   "id": "118734d6-3b52-4dae-be78-d8418d03676c",
   "metadata": {},
   "source": [
    "표제어 추출은 문맥을 고려하며 수행했을 때의 결과는 해당 단어의 품사 정보를 보존한다. \n",
    "어간 추출을 한 결과는 사전에 존재하지 않는 단어일 경우가 많다."
   ]
  },
  {
   "cell_type": "markdown",
   "id": "0e4ca1c4-9c81-4e2e-91af-facd8a4415c7",
   "metadata": {
    "tags": []
   },
   "source": [
    "# 어간 추출 (Stemming)"
   ]
  },
  {
   "cell_type": "markdown",
   "id": "a87b5147-0c12-4549-8069-84a13e7f25a7",
   "metadata": {},
   "source": [
    "어간 추출을 수행한 결과는 품사 정보가 보존되지 않는다. 더 정확히는 어간 추출을 한 결과는 사전에 존재하지 않는 단어일 경우가 많다."
   ]
  },
  {
   "cell_type": "markdown",
   "id": "9ecaa7b8-fa93-4f52-9618-9825b9f84219",
   "metadata": {},
   "source": [
    "형태학적 분석을 단순화한 버전이라고 볼 수도 있고, 정해진 규칙만 보고 단어의 어미를 자르는 어림짐작의 작업"
   ]
  },
  {
   "cell_type": "markdown",
   "id": "be703a46-a05d-436b-a3d1-35960c905c72",
   "metadata": {},
   "source": [
    "어간 추출 알고리즘 중 하나인 포터 알고리즘(Porter Algorithm)에 아래의 문자열을 입력으로 넣어보자."
   ]
  },
  {
   "cell_type": "code",
   "execution_count": 9,
   "id": "25c5dc4c-f861-4ba5-80e8-c42cf846ea92",
   "metadata": {},
   "outputs": [
    {
     "name": "stdout",
     "output_type": "stream",
     "text": [
      "어간 추출 전 : ['This', 'was', 'not', 'the', 'map', 'we', 'found', 'in', 'Billy', 'Bones', \"'s\", 'chest', ',', 'but', 'an', 'accurate', 'copy', ',', 'complete', 'in', 'all', 'things', '--', 'names', 'and', 'heights', 'and', 'soundings', '--', 'with', 'the', 'single', 'exception', 'of', 'the', 'red', 'crosses', 'and', 'the', 'written', 'notes', '.']\n",
      "어간 추출 후 : ['thi', 'wa', 'not', 'the', 'map', 'we', 'found', 'in', 'billi', 'bone', \"'s\", 'chest', ',', 'but', 'an', 'accur', 'copi', ',', 'complet', 'in', 'all', 'thing', '--', 'name', 'and', 'height', 'and', 'sound', '--', 'with', 'the', 'singl', 'except', 'of', 'the', 'red', 'cross', 'and', 'the', 'written', 'note', '.']\n"
     ]
    }
   ],
   "source": [
    "from nltk.stem import PorterStemmer\n",
    "from nltk.tokenize import word_tokenize\n",
    "\n",
    "stemmer = PorterStemmer()\n",
    "\n",
    "sentence = \"This was not the map we found in Billy Bones's chest, but an accurate copy, complete in all things--names and heights and soundings--with the single exception of the red crosses and the written notes.\"\n",
    "tokenized_sentence = word_tokenize(sentence)\n",
    "\n",
    "print('어간 추출 전 :', tokenized_sentence)\n",
    "print('어간 추출 후 :',[stemmer.stem(word) for word in tokenized_sentence])"
   ]
  },
  {
   "cell_type": "markdown",
   "id": "4285700e-a6da-4555-9ea8-aba14c32241f",
   "metadata": {},
   "source": [
    "포터 알고리즘의 규칙\n",
    "ALIZE → AL\n",
    "ANCE → 제거\n",
    "ICAL → IC"
   ]
  },
  {
   "cell_type": "markdown",
   "id": "3f0149a2-cdaa-4f7a-a00f-3c3b5fc66ac7",
   "metadata": {},
   "source": [
    "위의 규칙에 따르면 좌측의 단어는 우측의 단어와 같은 결과를 얻게된다.\n",
    "\n",
    "formalize → formal\n",
    "allowance → allow\n",
    "electricical → electric\n",
    "\n",
    "+ ※ Porter 알고리즘의 상세 규칙은 마틴 포터의 홈페이지에서 확인할 수 있다."
   ]
  },
  {
   "cell_type": "code",
   "execution_count": 10,
   "id": "d749f879-3090-425b-9036-5fdeb7a31e0f",
   "metadata": {},
   "outputs": [
    {
     "name": "stdout",
     "output_type": "stream",
     "text": [
      "어간 추출 전 : ['formalize', 'allowance', 'electricical']\n",
      "어간 추출 후 : ['formal', 'allow', 'electric']\n"
     ]
    }
   ],
   "source": [
    "words = ['formalize', 'allowance', 'electricical']\n",
    "\n",
    "print('어간 추출 전 :',words)\n",
    "print('어간 추출 후 :',[stemmer.stem(word) for word in words])"
   ]
  },
  {
   "cell_type": "markdown",
   "id": "c08d7795-4226-4cd3-afd1-43f780c1868d",
   "metadata": {},
   "source": [
    "어간 추출 속도는 표제어 추출보다 일반적으로 빠른데, 포터 어간 추출기는 정밀하게 설계되어 정확도가 높으므로 영어 자연어 처리에서 어간 추출을 하고자 한다면 가장 준수한 선택. \n",
    "NLTK에서는 포터 알고리즘 외에도 랭커스터 스태머(Lancaster Stemmer) 알고리즘을 지원"
   ]
  },
  {
   "cell_type": "code",
   "execution_count": 11,
   "id": "1e834d5a-52a8-4aa6-b55b-3271001b272e",
   "metadata": {},
   "outputs": [
    {
     "name": "stdout",
     "output_type": "stream",
     "text": [
      "어간 추출 전 : ['policy', 'doing', 'organization', 'have', 'going', 'love', 'lives', 'fly', 'dies', 'watched', 'has', 'starting']\n",
      "포터 스테머의 어간 추출 후: ['polici', 'do', 'organ', 'have', 'go', 'love', 'live', 'fli', 'die', 'watch', 'ha', 'start']\n",
      "랭커스터 스테머의 어간 추출 후: ['policy', 'doing', 'org', 'hav', 'going', 'lov', 'liv', 'fly', 'die', 'watch', 'has', 'start']\n"
     ]
    }
   ],
   "source": [
    "from nltk.stem import PorterStemmer\n",
    "from nltk.stem import LancasterStemmer\n",
    "\n",
    "porter_stemmer = PorterStemmer()\n",
    "lancaster_stemmer = LancasterStemmer()\n",
    "\n",
    "words = ['policy', 'doing', 'organization', 'have', 'going', 'love', 'lives', 'fly', 'dies', 'watched', 'has', 'starting']\n",
    "print('어간 추출 전 :', words)\n",
    "print('포터 스테머의 어간 추출 후:',[porter_stemmer.stem(w) for w in words])\n",
    "print('랭커스터 스테머의 어간 추출 후:',[lancaster_stemmer.stem(w) for w in words])"
   ]
  },
  {
   "cell_type": "markdown",
   "id": "3258fe8b-b5a3-4904-bf68-540ed9163fd0",
   "metadata": {},
   "source": [
    "**동일한 단어들의 나열에 대해서 두 스태머는 전혀 다른 결과 \n",
    "==> 어떤 스태머가 해당 코퍼스에 적합한지를 판단한 후에 사용하여야..."
   ]
  },
  {
   "cell_type": "markdown",
   "id": "329877fb-c89d-4a38-9a70-7e69f56807d6",
   "metadata": {},
   "source": [
    "이런 규칙에 기반한 알고리즘은 종종 제대로 된 일반화를 수행하지 못 할 수 있음.\n",
    "포터알고리즘에서\n",
    "organization → organ 처럼 된다.\n",
    "but,\n",
    "organ에 대해서 어간 추출을 한다고 하더라도 결과는 역시 organ\n",
    "\n",
    ": 는 의미가 동일한 경우에만 같은 단어를 얻기를 원하는 정규화의 목적에는 맞지 않음."
   ]
  },
  {
   "cell_type": "markdown",
   "id": "53617f67-6ad3-4a04-9cf5-6b5e07a234aa",
   "metadata": {},
   "source": [
    "Stemming\n",
    "\n",
    "am → am\n",
    "\n",
    "the going → the go\n",
    "\n",
    "having → hav\n",
    "\n",
    "------------------------\n",
    "Lemmatization\n",
    "\n",
    "am → be\n",
    "\n",
    "the going → the going\n",
    "\n",
    "having → have"
   ]
  },
  {
   "cell_type": "markdown",
   "id": "2d8ae04c-ea44-424b-8259-a2cce00d9a43",
   "metadata": {},
   "source": [
    "# 한국어에서의 어간 추출"
   ]
  },
  {
   "cell_type": "markdown",
   "id": "cdaf9d61-3b89-4708-986f-bb958fe36691",
   "metadata": {},
   "source": [
    "5언 9품사의 구조\n",
    "\n",
    "체언/명사, 대명사, 수사\n",
    "\n",
    "수식언/관형사, 부사\n",
    "\n",
    "관계언/조사\n",
    "\n",
    "독립언/감탄사\n",
    "\n",
    "용언/동사, 형용사"
   ]
  },
  {
   "cell_type": "markdown",
   "id": "612ab59e-46f7-45ab-ba62-903e689adc0d",
   "metadata": {
    "jp-MarkdownHeadingCollapsed": true,
    "tags": []
   },
   "source": [
    "용언에 해당되는 '동사'와 '형용사'는 어간(stem)과 어미(ending)의 결합"
   ]
  },
  {
   "cell_type": "markdown",
   "id": "6e7d0322-763d-4908-bbd5-7a41ba2e979f",
   "metadata": {},
   "source": [
    "--------------------------------\n",
    "활용(conjugation) : 용언의 어간(stem)이 어미(ending)를 가지는 일\n",
    "1. 규칙 활용\n",
    "2. 불규칙 활용"
   ]
  },
  {
   "cell_type": "markdown",
   "id": "f8b2c61d-5985-404f-a7b6-a4520c4cefd3",
   "metadata": {},
   "source": [
    "어간(stem) : 용언(동사, 형용사)을 활용할 때, 원칙적으로 모양이 변하지 않는 부분. 활용에서 어미에 선행하는 부분. 때론 어간의 모양도 바뀔 수 있음(예: 긋다, 긋고, 그어서, 그어라).\n",
    "\n",
    "어미(ending): 용언의 어간 뒤에 붙어서 활용하면서 변하는 부분이며, 여러 문법적 기능을 수행"
   ]
  },
  {
   "cell_type": "markdown",
   "id": "08a9bd57-9576-4988-816c-1c04ed22d4ed",
   "metadata": {},
   "source": [
    "---------------------\n",
    "활용은 어간이 어미를 취할 때, 어간의 모습이 일정하다면 규칙 활용, 어간이나 어미의 모습이 변하는 불규칙 활용"
   ]
  }
 ],
 "metadata": {
  "kernelspec": {
   "display_name": "Python 3 (ipykernel)",
   "language": "python",
   "name": "python3"
  },
  "language_info": {
   "codemirror_mode": {
    "name": "ipython",
    "version": 3
   },
   "file_extension": ".py",
   "mimetype": "text/x-python",
   "name": "python",
   "nbconvert_exporter": "python",
   "pygments_lexer": "ipython3",
   "version": "3.8.12"
  }
 },
 "nbformat": 4,
 "nbformat_minor": 5
}
