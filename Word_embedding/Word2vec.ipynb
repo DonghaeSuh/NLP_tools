{
 "cells": [
  {
   "cell_type": "markdown",
   "id": "d7b04fe5-c211-4f3d-a62d-7f0338e0d9ae",
   "metadata": {},
   "source": [
    "1. 구글 사전훈련된 word2vec bin 파일 다운\n",
    "https://drive.google.com/file/d/0B7XkCwpI5KDYNlNUTTlSS21pQmM/edit?resourcekey=0-wjGZdNAUop6WykTtMip30g\n"
   ]
  },
  {
   "cell_type": "markdown",
   "id": "d2288fa3-8039-4a52-a4e2-7a52821f235b",
   "metadata": {},
   "source": [
    "2. gensim 모듈과 bin파일을 활용해 word2vec 모델을 로드"
   ]
  },
  {
   "cell_type": "code",
   "execution_count": null,
   "id": "2f1a76b4-65d6-497a-8a9e-4e560a0a149f",
   "metadata": {},
   "outputs": [],
   "source": [
    "mport gensim\n",
    "word2vec = gensim.models.KeyedVectors.load_word2vec_format('GoogleNews-vectors-negative300.bin.gz', binary = True)"
   ]
  },
  {
   "cell_type": "markdown",
   "id": "525ccd25-5269-4139-b170-424fad481a07",
   "metadata": {},
   "source": [
    "3. vocabulary에 있는 토큰들의 벡터를 가져와 embedding matrix에 저장"
   ]
  },
  {
   "cell_type": "code",
   "execution_count": null,
   "id": "e13b96e5-5c4b-4acc-8e1d-4aa0af2e6c89",
   "metadata": {},
   "outputs": [],
   "source": [
    "embedding_matrix = np.zeros((vocab_size, 300)) #300차원의 임베딩 매트릭스 생성\n",
    "\n",
    "for index, word in enumerate(vocabulary): #vocabulary에 있는 토큰들을 하나씩 넘겨줍니다.\n",
    "    if word in word2vec: #넘겨 받은 토큰이 word2vec에 존재하면(이미 훈련이 된 토큰이라는 뜻)\n",
    "        embedding_vector = word2vec[word] #해당 토큰에 해당하는 vector를 불러오고\n",
    "        embedding_mxtrix[i] = embedding_vector #해당 위치의 embedding_mxtrix에 저장합니다.\n",
    "    else:\n",
    "        print(\"word2vec에 없는 단어입니다.\")\n",
    "        break"
   ]
  },
  {
   "cell_type": "markdown",
   "id": "436b9ef1-9060-4d44-b0e8-4a3356fbb46c",
   "metadata": {},
   "source": [
    "4. keras embedding layer에 embedding_matrix를 가중치로 주어 이용"
   ]
  },
  {
   "cell_type": "code",
   "execution_count": null,
   "id": "4c5ebdeb-4d85-4840-96f0-4041b0d76790",
   "metadata": {},
   "outputs": [],
   "source": [
    "model = Sequential()\n",
    "model.add(Embedding(vocab_size, 300,weights = [embedding_matrx], input_length = max_len))\n"
   ]
  }
 ],
 "metadata": {
  "kernelspec": {
   "display_name": "Python 3 (ipykernel)",
   "language": "python",
   "name": "python3"
  },
  "language_info": {
   "codemirror_mode": {
    "name": "ipython",
    "version": 3
   },
   "file_extension": ".py",
   "mimetype": "text/x-python",
   "name": "python",
   "nbconvert_exporter": "python",
   "pygments_lexer": "ipython3",
   "version": "3.8.12"
  }
 },
 "nbformat": 4,
 "nbformat_minor": 5
}
