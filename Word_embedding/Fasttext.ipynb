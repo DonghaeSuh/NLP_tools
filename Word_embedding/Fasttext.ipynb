{
 "cells": [
  {
   "cell_type": "markdown",
   "id": "39517528-c05a-4e08-bea4-7de9c3c6f385",
   "metadata": {},
   "source": [
    "## 1. 사전 훈련된 bin 파일 다운\n",
    "https://drive.google.com/file/d/1yHGtccC2FV3_d6C6_Q4cozYSOgA7bG-e/view"
   ]
  },
  {
   "cell_type": "markdown",
   "id": "7dd16eff-a0ed-4739-86ff-631896d9cca5",
   "metadata": {},
   "source": [
    "## 2.vec 파일을 gensim을 활용하여 읽어온다."
   ]
  },
  {
   "cell_type": "code",
   "execution_count": null,
   "id": "35a6f17c-2519-4784-b9ad-548a02c217fa",
   "metadata": {},
   "outputs": [],
   "source": [
    "from gensim.models.keyedvectors import KeyedVectors\n",
    "FastText = KeyedVectors.load_word2vec_format('./fasttext.bin', binary = True)"
   ]
  },
  {
   "cell_type": "markdown",
   "id": "a860417c-4e34-41f7-b6fc-646be43c5fd6",
   "metadata": {},
   "source": [
    "## 3.vocabulary에 있는 토큰들의 벡터를 가져와 embedding matrix에 저장."
   ]
  },
  {
   "cell_type": "code",
   "execution_count": null,
   "id": "8d02d62c-077e-4093-a370-f36f4b2032ec",
   "metadata": {},
   "outputs": [],
   "source": [
    "embedding_matrix = np.zeros((vocab_size, 300)) #300차원의 임베딩 매트릭스 생성\n",
    "\n",
    "for index, word in enumerate(vocabulary): #vocabulary에 있는 토큰들을 하나씩 넘겨줍니다.\n",
    "    if word in FastText: #넘겨 받은 토큰이 Fasttext에 존재하면(이미 훈련이 된 토큰이라는 뜻)\n",
    "        embedding_vector = FastText[word] #해당 토큰에 해당하는 vector를 불러오고\n",
    "        embedding_mxtrix[i] = embedding_vector #해당 위치의 embedding_mxtrix에 저장합니다."
   ]
  },
  {
   "cell_type": "markdown",
   "id": "2f964aea-24ba-43b6-b6d0-31180459c40d",
   "metadata": {},
   "source": [
    "## 4. keras embedding layer에 embedding_matrix를 가중치로 주어 이용"
   ]
  },
  {
   "cell_type": "code",
   "execution_count": null,
   "id": "870e0ebe-2d0f-4931-9907-fa6fb58c5e4d",
   "metadata": {},
   "outputs": [],
   "source": [
    "model = Sequential()\n",
    "model.add(Embedding(vocab_size, 300,weights = [embedding_matrx], input_length = max_len))"
   ]
  }
 ],
 "metadata": {
  "kernelspec": {
   "display_name": "Python 3 (ipykernel)",
   "language": "python",
   "name": "python3"
  },
  "language_info": {
   "codemirror_mode": {
    "name": "ipython",
    "version": 3
   },
   "file_extension": ".py",
   "mimetype": "text/x-python",
   "name": "python",
   "nbconvert_exporter": "python",
   "pygments_lexer": "ipython3",
   "version": "3.8.12"
  }
 },
 "nbformat": 4,
 "nbformat_minor": 5
}
