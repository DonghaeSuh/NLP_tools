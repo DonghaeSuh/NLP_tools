{
 "cells": [
  {
   "cell_type": "code",
   "execution_count": 2,
   "id": "187a6b65-9b12-4fc5-8b2d-41d056e8f919",
   "metadata": {},
   "outputs": [],
   "source": [
    "import keras"
   ]
  },
  {
   "cell_type": "code",
   "execution_count": 8,
   "id": "42f368de-015c-45c9-9a78-7fce23c0269c",
   "metadata": {},
   "outputs": [
    {
     "ename": "SyntaxError",
     "evalue": "positional argument follows keyword argument (Temp/ipykernel_130804/3612661262.py, line 2)",
     "output_type": "error",
     "traceback": [
      "\u001b[1;36m  File \u001b[1;32m\"C:\\Users\\gypsi\\AppData\\Local\\Temp/ipykernel_130804/3612661262.py\"\u001b[1;36m, line \u001b[1;32m2\u001b[0m\n\u001b[1;33m    model.add(keras.layers.Embedding(vocab_size=500, 128, input_length = max_len))\u001b[0m\n\u001b[1;37m                                                     ^\u001b[0m\n\u001b[1;31mSyntaxError\u001b[0m\u001b[1;31m:\u001b[0m positional argument follows keyword argument\n"
     ]
    }
   ],
   "source": [
    "model = keras.models.Sequential()\n",
    "model.add(keras.layers.Embedding(vocab_size, 128, input_length = max_len))"
   ]
  },
  {
   "cell_type": "code",
   "execution_count": null,
   "id": "8a5a9598-3f26-47c8-8885-a92cab5f753b",
   "metadata": {},
   "outputs": [],
   "source": []
  }
 ],
 "metadata": {
  "kernelspec": {
   "display_name": "Python 3 (ipykernel)",
   "language": "python",
   "name": "python3"
  },
  "language_info": {
   "codemirror_mode": {
    "name": "ipython",
    "version": 3
   },
   "file_extension": ".py",
   "mimetype": "text/x-python",
   "name": "python",
   "nbconvert_exporter": "python",
   "pygments_lexer": "ipython3",
   "version": "3.8.12"
  }
 },
 "nbformat": 4,
 "nbformat_minor": 5
}
